{
 "cells": [
  {
   "cell_type": "code",
   "execution_count": 1,
   "metadata": {},
   "outputs": [],
   "source": [
    "#\n",
    "#    Description:\n",
    "#        A simple and well formatted jupyter notebook for extracting necessary\n",
    "#        information from csv of sound-activity project under Think-IOT Lab in\n",
    "#        Dr. B. C. Roy Engineering College.\n",
    "#        \n",
    "#    Author: Aveepsit Chowdhury\n",
    "#    \n",
    "#    Dependency:\n",
    "#        pandas\n",
    "#\n",
    "#\n"
   ]
  },
  {
   "cell_type": "code",
   "execution_count": 2,
   "metadata": {},
   "outputs": [],
   "source": [
    "import pandas as pd\n"
   ]
  },
  {
   "cell_type": "code",
   "execution_count": 3,
   "metadata": {},
   "outputs": [],
   "source": [
    "# Initializations and operation Specifications:\n",
    "\n",
    "file_name = \"data_files/raw_data.csv\"\n",
    "header = None                   # Default: 'infer'     \n",
    "col_to_get = '0, 1-2, 5'        # To retain all collumns in DataFrame set: col_to_get = None / ''\n",
    "col_name = \"sound, date-time, reading #1, distance\"\n"
   ]
  },
  {
   "cell_type": "code",
   "execution_count": 4,
   "metadata": {},
   "outputs": [],
   "source": [
    "# Function definitions:\n",
    "\n",
    "def dataGlimse(DataFrm, dataAbt = \"RAW DATA\"):\n",
    "    print(\"\\n\\n-------- DATA INFO --------\\n\")\n",
    "    print(DataFrm.info())\n",
    "    print(\"\\n\\nDataFrame Shape: \",DataFrm.shape)\n",
    "    print(\"\\n\\nDataFrame Indexing: \",DataFrm.index)\n",
    "    print(\"\\n\\n--------\",dataAbt,\"GLIMSE --------\")\n",
    "\n",
    "    print(\"\\n# Head #\\n\")\n",
    "    print(DataFrm.head())\n",
    "    print(\"\\n# Tail #\\n\")\n",
    "    print(DataFrm.tail())\n",
    "    print(\"\\n\\n--------\",dataAbt,\"GLIMSE END --------\")\n",
    "\n"
   ]
  },
  {
   "cell_type": "code",
   "execution_count": 5,
   "metadata": {},
   "outputs": [],
   "source": [
    "reviews = pd.read_csv(file_name, header=header)"
   ]
  },
  {
   "cell_type": "code",
   "execution_count": 6,
   "metadata": {
    "scrolled": false
   },
   "outputs": [
    {
     "name": "stdout",
     "output_type": "stream",
     "text": [
      "\n",
      "\n",
      "-------- DATA INFO --------\n",
      "\n",
      "<class 'pandas.core.frame.DataFrame'>\n",
      "RangeIndex: 16085 entries, 0 to 16084\n",
      "Data columns (total 6 columns):\n",
      "0    16085 non-null float64\n",
      "1    16085 non-null object\n",
      "2    16058 non-null float64\n",
      "3    16058 non-null float64\n",
      "4    16085 non-null object\n",
      "5    16085 non-null object\n",
      "dtypes: float64(3), object(3)\n",
      "memory usage: 754.1+ KB\n",
      "None\n",
      "\n",
      "\n",
      "DataFrame Shape:  (16085, 6)\n",
      "\n",
      "\n",
      "DataFrame Indexing:  RangeIndex(start=0, stop=16085, step=1)\n",
      "\n",
      "\n",
      "-------- RAW DATA GLIMSE --------\n",
      "\n",
      "# Head #\n",
      "\n",
      "           0                    1   2   3            4    5\n",
      "0  62.736943  2018-09-13-11-43-04 NaN NaN  2 WHEELER-1  0 m\n",
      "1  62.551182  2018-09-13-11-43-04 NaN NaN  2 WHEELER-1  0 m\n",
      "2  62.399189  2018-09-13-11-43-05 NaN NaN  2 WHEELER-1  0 m\n",
      "3  68.237301  2018-09-13-11-43-05 NaN NaN  2 WHEELER-1  0 m\n",
      "4  69.075512  2018-09-13-11-43-06 NaN NaN  2 WHEELER-1  0 m\n",
      "\n",
      "# Tail #\n",
      "\n",
      "               0                    1          2          3            4    5\n",
      "16080  65.185052  2018-09-13-14-10-24  23.544883  87.342320  2 WHEELER-1  0 m\n",
      "16081  66.014745  2018-09-13-14-10-24  23.544883  87.342320  2 WHEELER-1  0 m\n",
      "16082  65.229634  2018-09-13-14-10-25  23.544871  87.342334  2 WHEELER-1  0 m\n",
      "16083  66.740656  2018-09-13-14-10-25  23.544871  87.342334  2 WHEELER-1  0 m\n",
      "16084  66.988884  2018-09-13-14-10-26  23.544871  87.342334  2 WHEELER-1  0 m\n",
      "\n",
      "\n",
      "-------- RAW DATA GLIMSE END --------\n"
     ]
    }
   ],
   "source": [
    "dataGlimse(reviews, \"RAW DATA\")\n"
   ]
  },
  {
   "cell_type": "code",
   "execution_count": 7,
   "metadata": {},
   "outputs": [],
   "source": [
    "new_reviews = reviews.dropna()"
   ]
  },
  {
   "cell_type": "code",
   "execution_count": 8,
   "metadata": {
    "scrolled": false
   },
   "outputs": [
    {
     "name": "stdout",
     "output_type": "stream",
     "text": [
      "\n",
      "\n",
      "-------- DATA INFO --------\n",
      "\n",
      "<class 'pandas.core.frame.DataFrame'>\n",
      "Int64Index: 16058 entries, 27 to 16084\n",
      "Data columns (total 4 columns):\n",
      "sound         16058 non-null float64\n",
      "date-time     16058 non-null object\n",
      "reading #1    16058 non-null float64\n",
      "distance      16058 non-null object\n",
      "dtypes: float64(2), object(2)\n",
      "memory usage: 627.3+ KB\n",
      "None\n",
      "\n",
      "\n",
      "DataFrame Shape:  (16058, 4)\n",
      "\n",
      "\n",
      "DataFrame Indexing:  Int64Index([   27,    28,    29,    30,    31,    32,    33,    34,    35,\n",
      "               36,\n",
      "            ...\n",
      "            16075, 16076, 16077, 16078, 16079, 16080, 16081, 16082, 16083,\n",
      "            16084],\n",
      "           dtype='int64', length=16058)\n",
      "\n",
      "\n",
      "-------- SLICED DATA GLIMSE --------\n",
      "\n",
      "# Head #\n",
      "\n",
      "        sound            date-time  reading #1 distance\n",
      "27  60.718218  2018-09-13-11-45-53   23.544847      0 m\n",
      "28  57.950569  2018-09-13-11-45-53   23.544847      0 m\n",
      "29  57.834903  2018-09-13-11-45-54   23.544752      0 m\n",
      "30  58.748628  2018-09-13-11-45-54   23.544752      0 m\n",
      "31  63.343163  2018-09-13-11-45-55   23.544752      0 m\n",
      "\n",
      "# Tail #\n",
      "\n",
      "           sound            date-time  reading #1 distance\n",
      "16080  65.185052  2018-09-13-14-10-24   23.544883      0 m\n",
      "16081  66.014745  2018-09-13-14-10-24   23.544883      0 m\n",
      "16082  65.229634  2018-09-13-14-10-25   23.544871      0 m\n",
      "16083  66.740656  2018-09-13-14-10-25   23.544871      0 m\n",
      "16084  66.988884  2018-09-13-14-10-26   23.544871      0 m\n",
      "\n",
      "\n",
      "-------- SLICED DATA GLIMSE END --------\n"
     ]
    }
   ],
   "source": [
    "if col_to_get != '' and col_to_get != None:\n",
    "    col_nos = []\n",
    "    for cols in col_to_get.split(','):\n",
    "        cols = cols.replace(' ', '').split('-')\n",
    "        if len(cols) == 1:\n",
    "            col_nos = col_nos+[int(cols[0])]\n",
    "        else:\n",
    "            col_nos = col_nos+list(range(int(cols[0]),int(cols[1]) + 1))\n",
    "    new_reviews = new_reviews[col_nos]\n",
    "    \n",
    "if col_name != None:\n",
    "    new_reviews.columns = [name.strip() for name in col_name.split(',')]\n",
    "\n",
    "    \n",
    "dataGlimse(new_reviews, \"SLICED DATA\")\n"
   ]
  },
  {
   "cell_type": "code",
   "execution_count": null,
   "metadata": {},
   "outputs": [],
   "source": []
  }
 ],
 "metadata": {
  "kernelspec": {
   "display_name": "Python 3",
   "language": "python",
   "name": "python3"
  },
  "language_info": {
   "codemirror_mode": {
    "name": "ipython",
    "version": 3
   },
   "file_extension": ".py",
   "mimetype": "text/x-python",
   "name": "python",
   "nbconvert_exporter": "python",
   "pygments_lexer": "ipython3",
   "version": "3.6.5"
  },
  "widgets": {
   "application/vnd.jupyter.widget-state+json": {
    "state": {},
    "version_major": 2,
    "version_minor": 0
   }
  }
 },
 "nbformat": 4,
 "nbformat_minor": 2
}
